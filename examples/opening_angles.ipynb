{
 "cells": [
  {
   "cell_type": "markdown",
   "metadata": {},
   "source": [
    "# IFOV calculator\n",
    "This example calculates the IFOV for typical aircraft altitudes."
   ]
  },
  {
   "cell_type": "code",
   "execution_count": 1,
   "metadata": {},
   "outputs": [],
   "source": [
    "from lizard.satellite import ifov"
   ]
  },
  {
   "cell_type": "code",
   "execution_count": 2,
   "metadata": {},
   "outputs": [
    {
     "name": "stdout",
     "output_type": "stream",
     "text": [
      "beam width: 1°, incidence angle: 0°, altitude: 60 m 1.05 m 1.05 m\n",
      "beam width: 1°, incidence angle: 0°, altitude: 3000 m 52.36 m 52.36 m\n",
      "beam width: 1.3°, incidence angle: 0°, altitude: 60 m 1.36 m 1.36 m\n",
      "beam width: 1.3°, incidence angle: 0°, altitude: 3000 m 68.07 m 68.07 m\n",
      "beam width: 0.85°, incidence angle: 25°, altitude: 500 m 8.27 m 9.23 m\n",
      "beam width: 0.85°, incidence angle: 25°, altitude: 3000 m 47.08 m 49.81 m\n",
      "beam width: 3.5°, incidence angle: 0°, altitude: 20000 m 1222.11 m 1222.11 m\n"
     ]
    }
   ],
   "source": [
    "configs = [[1, 0, 60],\n",
    "           [1, 0, 3000],\n",
    "           [1.3, 0, 60],\n",
    "           [1.3, 0, 3000],\n",
    "           [0.85, 25, 500],\n",
    "           [0.85, 25, 3000],\n",
    "           [3.5, 0, 20000],\n",
    "]\n",
    "for bw, theta, alt in configs:\n",
    "    x, y = ifov(beam_width=bw, incidence_angle=theta, altitude=alt)\n",
    "    x = round(x, 2)\n",
    "    y = round(y, 2)\n",
    "    print(f'beam width: {bw}°, incidence angle: {theta}°, altitude: {alt} m '\n",
    "          f'{x} m {y} m')"
   ]
  },
  {
   "cell_type": "code",
   "execution_count": null,
   "metadata": {},
   "outputs": [],
   "source": []
  }
 ],
 "metadata": {
  "kernelspec": {
   "display_name": "crt21",
   "language": "python",
   "name": "python3"
  },
  "language_info": {
   "codemirror_mode": {
    "name": "ipython",
    "version": 3
   },
   "file_extension": ".py",
   "mimetype": "text/x-python",
   "name": "python",
   "nbconvert_exporter": "python",
   "pygments_lexer": "ipython3",
   "version": "3.11.6"
  },
  "orig_nbformat": 4
 },
 "nbformat": 4,
 "nbformat_minor": 2
}
